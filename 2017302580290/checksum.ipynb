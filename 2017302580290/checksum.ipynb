{
 "nbformat": 4,
 "nbformat_minor": 2,
 "metadata": {
  "language_info": {
   "name": "python",
   "codemirror_mode": {
    "name": "ipython",
    "version": 3
   },
   "version": "3.7.1-final"
  },
  "orig_nbformat": 2,
  "file_extension": ".py",
  "mimetype": "text/x-python",
  "name": "python",
  "npconvert_exporter": "python",
  "pygments_lexer": "ipython3",
  "version": 3,
  "kernelspec": {
   "name": "python37164bit12fea0a7e03545f4b9911840d38c99e4",
   "display_name": "Python 3.7.1 64-bit"
  }
 },
 "cells": [
  {
   "cell_type": "markdown",
   "metadata": {},
   "source": [
    "# checksum 计算\n",
    "\n",
    "> checksum 用于检测报文段从源到达目的移动时，其中是否发生了改变\n",
    "\n",
    "## 步骤\n",
    "1. 先将需要计算checksum报文段中的checksum部分设置为0\n",
    "2. 计算checksum的数据按2byte划分开来，每2byte组成一个16bit的值，如果最后有单个byte的数据，补一个byte的0组成2byte\n",
    "3. 将所有的16bit值累加到一个32bit的值中\n",
    "4. 将32bit值的高16bit与低16bit相加到一个新的32bit值中，若新的32bit值大于0Xffff,\n",
    "    再将新值的高16bit与低16bit相加\n",
    "5. 将上一步计算所得的16bit值按位取反，即得到checksum值，存入数据的checksum字段即可"
   ]
  },
  {
   "cell_type": "code",
   "execution_count": 23,
   "metadata": {},
   "outputs": [],
   "source": [
    "# 需要计算的数据\n",
    "datas=[\n",
    "0b0110011001100000,\n",
    "0b0101010101010101,\n",
    "0b1000111100001100\n",
    "]"
   ]
  },
  {
   "cell_type": "code",
   "execution_count": 31,
   "metadata": {},
   "outputs": [
    {
     "output_type": "stream",
     "name": "stdout",
     "text": "反码前：0100101011000010\n反码后：1011010100111101\n"
    }
   ],
   "source": [
    "# 计算checksum\n",
    "def cal_checksum(datas):\n",
    "    # 初始化为0\n",
    "    checksum=0b0\n",
    "\n",
    "    # 数据相加\n",
    "    for data in datas:\n",
    "        checksum+=data\n",
    "    \n",
    "    # 循环回卷\n",
    "    while True:\n",
    "        # 第16位\n",
    "        low = checksum & 0xffff\n",
    "        # 比16位高\n",
    "        high = checksum >> 16\n",
    "        if high > 0:\n",
    "            # 计算回卷\n",
    "            checksum = low + high\n",
    "        else:\n",
    "            print('反码前：'+bin(checksum)[2:].zfill(16))\n",
    "            checksum^=0xffff\n",
    "            return checksum\n",
    "            \n",
    "\n",
    "\n",
    "if __name__=='__main__':\n",
    "\n",
    "    checksum = cal_checksum(datas)\n",
    "    \n",
    "    print('反码后：'+bin(checksum)[2:].zfill(16))"
   ]
  }
 ]
}